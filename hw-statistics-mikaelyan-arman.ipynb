{
 "cells": [
  {
   "cell_type": "code",
   "execution_count": 604,
   "id": "fd53d06d",
   "metadata": {},
   "outputs": [],
   "source": [
    "import pandas as pd\n",
    "import numpy as np \n",
    "import matplotlib.pyplot as plt\n",
    "import seaborn as sns\n",
    "import scipy.stats as sts\n",
    "import re\n",
    "from math import factorial\n",
    "from math import isclose\n",
    "from tqdm import tqdm"
   ]
  },
  {
   "cell_type": "markdown",
   "id": "4dafecf8",
   "metadata": {},
   "source": [
    "# 1"
   ]
  },
  {
   "cell_type": "markdown",
   "id": "9952f820",
   "metadata": {},
   "source": [
    "Вероятность, что определенный водитель повторится дважды за 10 поездок равна $$ C^1_9 \\cdot (\\frac{1}n)^2 \\cdot (1- \\frac{1}n) \\cdot (1- \\frac{2}n) \\cdot ... \\cdot (1- \\frac{8}n) $$ \n",
    "(на 10-й поездке и любой из 9 первых). \n",
    "Всего водителей $n$. Следовательно, функция максимального правдоподобия имеет вид:\n",
    "$$ L = C^1_9 \\cdot n \\cdot (\\frac{1}n)^2 \\cdot (1- \\frac{1}n) \\cdot ... \\cdot (1- \\frac{8}n)\\to \\max_n $$"
   ]
  },
  {
   "cell_type": "code",
   "execution_count": 584,
   "id": "63cd604d",
   "metadata": {
    "scrolled": true
   },
   "outputs": [
    {
     "data": {
      "image/png": "[encoded data removed]",
      "text/plain": [
       "<Figure size 432x288 with 1 Axes>"
      ]
     },
     "metadata": {
      "needs_background": "light"
     },
     "output_type": "display_data"
    }
   ],
   "source": [
    "n = np.arange(1, 1001, dtype='int64')\n",
    "L = 9 * 1/n * (1 - 1/n) * (1 - 2/n) * (1 - 3/n) * (1 - 4/n) * (1 - 5/n) * (1 - 6/n) * (1 - 7/n) * (1 - 8/n)\n",
    "\n",
    "plt.title('Функция максимального правдоподобия')\n",
    "plt.ylabel('L(n)')\n",
    "plt.xlabel('n')\n",
    "plt.plot(n, L)\n",
    "n_hat_ml = n[L.argmax()]"
   ]
  },
  {
   "cell_type": "code",
   "execution_count": 585,
   "id": "528e71bf",
   "metadata": {
    "scrolled": true
   },
   "outputs": [
    {
     "name": "stdout",
     "output_type": "stream",
     "text": [
      "Оценка n методом максимального правдоподобия равна 42.\n"
     ]
    }
   ],
   "source": [
    "print(f'Оценка n методом максимального правдоподобия равна {n_hat_ml}.')"
   ]
  },
  {
   "cell_type": "markdown",
   "id": "56a12d0b",
   "metadata": {},
   "source": [
    "При таком n функция максимального правдоподобия достигает своего максимума, что видно из графика."
   ]
  },
  {
   "cell_type": "markdown",
   "id": "f0f2b7d3",
   "metadata": {},
   "source": [
    "## б)\n",
    "\n",
    "$$ E(num) = 2 \\cdot \\frac{1}n + 3 \\cdot 2 \\cdot (\\frac{1}n) \\cdot (1-\\frac{1}n) + 4 \\cdot 3 \\cdot (\\frac{1}n) \\cdot (1-\\frac{1}n) \\cdot (1-\\frac{2}n) + \\dots $$\n",
    "\n",
    "Получается, что мат.ожидание является суммой такого ряда:\n",
    "\n",
    "$$ E(num) = \\sum_{i=1}^{n} (i+1) \\cdot i \\cdot \\frac{(n-1)!}{(n-i)! \\cdot n^{i}} $$\n",
    "\n",
    "К сожалению, cумма такого ряда не нашлась, поэтому решим численно.\n",
    "\n",
    "Получаем, что\n"
   ]
  },
  {
   "cell_type": "code",
   "execution_count": 606,
   "id": "4536a0cf",
   "metadata": {},
   "outputs": [
    {
     "data": {
      "text/plain": [
       "array([2.        , 2.5       , 2.88888889, 3.21875   , 3.5104    ,\n",
       "       3.77469136, 4.0181387 , 4.24501801, 4.45831574, 4.66021568,\n",
       "       4.85237205, 5.03607368, 5.21234791, 5.38202942, 5.54580729])"
      ]
     },
     "execution_count": 606,
     "metadata": {},
     "output_type": "execute_result"
    },
    {
     "data": {
      "image/png": "[encoded data removed]",
      "text/plain": [
       "<Figure size 432x288 with 1 Axes>"
      ]
     },
     "metadata": {
      "needs_background": "light"
     },
     "output_type": "display_data"
    }
   ],
   "source": [
    "def Mu():\n",
    "    MUs = np.empty(len(n))\n",
    "    for i in n:\n",
    "        E = 0\n",
    "        add = 1\n",
    "        for j in np.arange(i):\n",
    "            add *= (i-j) / i\n",
    "            E = E + (j+2) * (j+1) * (1/i) * add\n",
    "        MUs[i-1] = E\n",
    "    return MUs\n",
    "\n",
    "E = Mu()\n",
    "plt.title('Математическое ожидание')\n",
    "plt.plot(np.arange(1, 1001), E)\n",
    "plt.xlabel('n')\n",
    "plt.ylabel('E(num)')\n",
    "E[:15]"
   ]
  },
  {
   "cell_type": "markdown",
   "id": "68da7811",
   "metadata": {},
   "source": [
    "Найдем оценку методом моментов, приравняв значение теоретического первого начального момента и выборочного (num=10). Поскольку аналитически мат. ожидание найти не удалось, найдем n, при котором мат. ожидание достигает наиболее близкого к 10 значения (c точностью $\\frac{1}{10^{1.5}}$)."
   ]
  },
  {
   "cell_type": "code",
   "execution_count": 596,
   "id": "de3cdd71",
   "metadata": {},
   "outputs": [
    {
     "name": "stdout",
     "output_type": "stream",
     "text": [
      "Оценка n методом моментов равна 55.\n"
     ]
    }
   ],
   "source": [
    "print(f'Оценка n методом моментов равна {n[np.isclose(E, 10, atol=10**(-1.5))][0]}.')"
   ]
  },
  {
   "cell_type": "markdown",
   "id": "d8aa924d",
   "metadata": {},
   "source": [
    "## в)"
   ]
  },
  {
   "cell_type": "markdown",
   "id": "4ad3682e",
   "metadata": {},
   "source": [
    "Проведем 10000 экспериментов вызова такси до первого повторного при $n=100$ и запишем номера заказов с первым повтором."
   ]
  },
  {
   "cell_type": "code",
   "execution_count": 610,
   "id": "1995d9bd",
   "metadata": {},
   "outputs": [
    {
     "name": "stdout",
     "output_type": "stream",
     "text": [
      "Номера первого повтора: [ 8  4  6  7 24  3 12 10 19 19]...\n"
     ]
    }
   ],
   "source": [
    "n_obs = np.empty(10000, dtype='int64')\n",
    "ml = np.empty(10000, dtype='int64')\n",
    "mm = np.empty(10000)\n",
    "np.random.seed(800)\n",
    "\n",
    "for i in np.arange(10000):\n",
    "    rides = np.random.choice(100, size=1000)\n",
    "    j = np.unique(rides, return_index=True)[1]\n",
    "    res = np.zeros_like(rides, dtype=bool)\n",
    "    res[j] = True\n",
    "    n_obs[i] = np.where(res == False)[0][0] + 1\n",
    "\n",
    "print(f'Номера первого повтора: {n_obs[:10]}...')"
   ]
  },
  {
   "cell_type": "code",
   "execution_count": null,
   "id": "2b232263",
   "metadata": {},
   "outputs": [],
   "source": [
    "k = 0\n",
    "\n",
    "for i in tqdm(n_obs):\n",
    "    L_func = np.zeros(1100)\n",
    "    for j in np.arange(i, 800):\n",
    "        func = j-1\n",
    "        for m in np.arange(j-1):\n",
    "            func = func * (j-m)/j\n",
    "        L_func[j] = func\n",
    "    ml[k] = L_func.argmax()\n",
    "    k += 1"
   ]
  },
  {
   "cell_type": "code",
   "execution_count": 611,
   "id": "8b2bd9bd",
   "metadata": {},
   "outputs": [
    {
     "name": "stderr",
     "output_type": "stream",
     "text": [
      "100%|█████████████████████████████████████| 10000/10000 [02:50<00:00, 58.80it/s]\n"
     ]
    }
   ],
   "source": [
    "k = 0\n",
    "\n",
    "for i in tqdm(n_obs):\n",
    "    L_func = np.zeros(801)\n",
    "    for j in np.arange(i, 801):\n",
    "        L_func[j] = int(i - 1) / int(j)**int(i-1) * round(factorial(j-1)/factorial(j-i+1), 3)\n",
    "    ml[k] = L_func.argmax()\n",
    "    k += 1"
   ]
  },
  {
   "cell_type": "code",
   "execution_count": 621,
   "id": "3c1edc96",
   "metadata": {},
   "outputs": [
    {
     "data": {
      "text/plain": [
       "Text(0.5, 1.0, 'Распределение ml-оценок')"
      ]
     },
     "execution_count": 621,
     "metadata": {},
     "output_type": "execute_result"
    },
    {
     "data": {
      "image/png": "[encoded data removed]",
      "text/plain": [
       "<Figure size 432x288 with 1 Axes>"
      ]
     },
     "metadata": {
      "needs_background": "light"
     },
     "output_type": "display_data"
    }
   ],
   "source": [
    "plt.hist(ml, bins=25)\n",
    "plt.title('Распределение ml-оценок')"
   ]
  },
  {
   "cell_type": "code",
   "execution_count": 625,
   "id": "fde6fc48",
   "metadata": {},
   "outputs": [
    {
     "name": "stdout",
     "output_type": "stream",
     "text": [
      "Оценка смещения ml-оценки равна -2.2055000000000007\n"
     ]
    }
   ],
   "source": [
    "print(f'Оценка смещения ml-оценки равна {ml.mean() - 100}')"
   ]
  },
  {
   "cell_type": "code",
   "execution_count": 623,
   "id": "987c675f",
   "metadata": {},
   "outputs": [
    {
     "name": "stdout",
     "output_type": "stream",
     "text": [
      "Оценка дисперсии ml-оценки равна 8505.70506975\n"
     ]
    }
   ],
   "source": [
    "print(f'Оценка дисперсии ml-оценки равна {ml.var()}')"
   ]
  },
  {
   "cell_type": "code",
   "execution_count": 624,
   "id": "35278134",
   "metadata": {},
   "outputs": [
    {
     "name": "stdout",
     "output_type": "stream",
     "text": [
      "Cреднеквадратическая ошибка ml-оценки равна 8510.5693\n"
     ]
    }
   ],
   "source": [
    "print(f'Cреднеквадратическая ошибка ml-оценки равна {((ml-100)**2).sum() / 10000}')"
   ]
  },
  {
   "cell_type": "code",
   "execution_count": 626,
   "id": "4948ad7f",
   "metadata": {},
   "outputs": [
    {
     "data": {
      "text/plain": [
       "728"
      ]
     },
     "execution_count": 626,
     "metadata": {},
     "output_type": "execute_result"
    }
   ],
   "source": [
    "ml.max()"
   ]
  },
  {
   "cell_type": "markdown",
   "id": "200d4c5e",
   "metadata": {},
   "source": [
    "У функции правдоподобия 1 максимум -> итераций до 800 хватило, чтобы найти максимумы всех функций правдоподобия."
   ]
  },
  {
   "cell_type": "markdown",
   "id": "00e7d495",
   "metadata": {},
   "source": [
    "Находим такие n, при которых мат. ожидание отличается от $n_{obs}[i]$ не более, чем на 0.25. Если таких значений несколько, то возьмем значение посередине, так как мат.ожидание монотонно возрастатет."
   ]
  },
  {
   "cell_type": "code",
   "execution_count": 627,
   "id": "1d930383",
   "metadata": {},
   "outputs": [],
   "source": [
    "for i in np.arange(10000): \n",
    "    idx = np.where(np.isclose(E, n_obs[i], \n",
    "                        atol=2**(-2)))[0][(round(len(np.where(np.isclose(E, \n",
    "                        n_obs[i], atol=2**(-2)))[0]) / 2 - 1))]\n",
    "    mm[i] = idx"
   ]
  },
  {
   "cell_type": "code",
   "execution_count": 632,
   "id": "34e8906d",
   "metadata": {},
   "outputs": [
    {
     "data": {
      "text/plain": [
       "Text(0.5, 1.0, 'Распределение mm-оценок')"
      ]
     },
     "execution_count": 632,
     "metadata": {},
     "output_type": "execute_result"
    },
    {
     "data": {
      "image/png": "[encoded data removed]",
      "text/plain": [
       "<Figure size 432x288 with 1 Axes>"
      ]
     },
     "metadata": {
      "needs_background": "light"
     },
     "output_type": "display_data"
    }
   ],
   "source": [
    "plt.hist(mm, bins=25)\n",
    "plt.title('Распределение mm-оценок')"
   ]
  },
  {
   "cell_type": "code",
   "execution_count": 629,
   "id": "d9c2af08",
   "metadata": {},
   "outputs": [
    {
     "name": "stdout",
     "output_type": "stream",
     "text": [
      "Оценка смещения mm-оценки равна 25.959999999999994\n"
     ]
    }
   ],
   "source": [
    "print(f'Оценка смещения mm-оценки равна {mm.mean() - 100}')"
   ]
  },
  {
   "cell_type": "code",
   "execution_count": 630,
   "id": "817887b2",
   "metadata": {},
   "outputs": [
    {
     "name": "stdout",
     "output_type": "stream",
     "text": [
      "Оценка дисперсии mm-оценки равна 14094.4382\n"
     ]
    }
   ],
   "source": [
    "print(f'Оценка дисперсии mm-оценки равна {mm.var()}')"
   ]
  },
  {
   "cell_type": "code",
   "execution_count": 631,
   "id": "c9429fbb",
   "metadata": {},
   "outputs": [
    {
     "name": "stdout",
     "output_type": "stream",
     "text": [
      "Cреднеквадратическая ошибка mm-оценки равна 14768.3598\n"
     ]
    }
   ],
   "source": [
    "print(f'Cреднеквадратическая ошибка mm-оценки равна {((mm-100)**2).sum() / 10000}')"
   ]
  },
  {
   "cell_type": "markdown",
   "id": "cf104209",
   "metadata": {},
   "source": [
    "# 2. Имена таксистов"
   ]
  },
  {
   "cell_type": "markdown",
   "id": "7125ff81",
   "metadata": {},
   "source": [
    "## а)"
   ]
  },
  {
   "cell_type": "markdown",
   "id": "5441f332",
   "metadata": {},
   "source": [
    "Рассмотрим случай, когда все уникальные имена приезжают подряд:\n",
    "\n",
    "$$\n",
    "P = n \\cdot 1/n \\cdot (n-1)/n \\cdot (n-2)/n \\cdot (n-3)/n \\cdot (n-4)/n \\cdot (n-5)/n \\cdot (6/n)^4\n",
    "$$\n",
    "\n",
    "Но если имя первого таксиста уникально, то имя второго — не всегда, так как на втором заказе снова может приехать первый таксист. Рассмотрим случай, когда сперва таксист с уникальным именем приехал 5 раза, а потом подряд приехали таксисты с 5 уникальными именами:\n",
    "\n",
    "$$\n",
    "P = n \\cdot (1/n)^5 \\cdot (n-1)/n \\cdot (n-2)/n \\cdot (n-3)/n \\cdot (n-4)/n \\cdot (n-5)/n\n",
    "$$\n",
    "\n",
    "(Умножаем на n так как первым уникальным таксистом может быть кто угодно из n таксистов).\n",
    "Если же сперва приедут два уникальных таксиста, то для третьего, есть он не уникальный, имеется выбор уже из 2 имен, те вероятность $2/n$. Поскольку первый таксист всегда уникален, нас интересует как разместить неуникальных среди остальных 9 без повторений. Это считается по формуле: $C_9^4 = \\frac{9!}{4!5!}$. При этом каждый неуникальный таксист имеет вероятность от 1/n до 6/n, в зависимости от того, после сколько уникальных имен он приехал. Выходится, что вероятность равна:\n",
    "\n",
    "$$\n",
    "P = n * (1/n)^5 \\cdot (n-1)/n \\cdot (n-2)/n \\cdot (n-3)/n \\cdot (n-4)/n \\cdot (n-5)/n + .... + n * 1/n \\cdot (n-1)/n \\cdot (n-2)/n \\cdot (n-3)/n \\cdot (n-4)/n \\cdot (n-5)/n \\cdot (6/n)^4\n",
    "$$\n",
    "\n",
    "Каждое слагаемое вида $\\frac{1}{n^9} \\cdot \\frac{(n-1)!}{(n-6)!} \\cdot $ (Комбинацию из 4 множителей (1, 2, 3, 4, 5, 6) без учета порядка).\n",
    "\n",
    "Посчитаем сумму таких комбинаций: 22827"
   ]
  },
  {
   "cell_type": "code",
   "execution_count": 705,
   "id": "219767a7",
   "metadata": {
    "scrolled": true
   },
   "outputs": [
    {
     "data": {
      "text/plain": [
       "[<matplotlib.lines.Line2D at 0x7f865f24e100>]"
      ]
     },
     "execution_count": 705,
     "metadata": {},
     "output_type": "execute_result"
    },
    {
     "data": {
      "image/png": "[encoded data removed]",
      "text/plain": [
       "<Figure size 432x288 with 1 Axes>"
      ]
     },
     "metadata": {
      "needs_background": "light"
     },
     "output_type": "display_data"
    }
   ],
   "source": [
    "n = np.arange(1, 200)\n",
    "\n",
    "L = 1/n**9 * (n-1) * (n-2) * (n-3) * (n-4) * (n-5) * 22827\n",
    "\n",
    "plt.plot(n, L)"
   ]
  },
  {
   "cell_type": "code",
   "execution_count": 645,
   "id": "682408dc",
   "metadata": {},
   "outputs": [
    {
     "name": "stdout",
     "output_type": "stream",
     "text": [
      "Оценка максимального правдоподобия равна 8\n"
     ]
    }
   ],
   "source": [
    "print(f'Оценка максимального правдоподобия равна {n[L.argmax()]}')"
   ]
  },
  {
   "cell_type": "markdown",
   "id": "084d3509",
   "metadata": {},
   "source": [
    "## б)"
   ]
  },
  {
   "cell_type": "code",
   "execution_count": 716,
   "id": "35d7a9e9",
   "metadata": {},
   "outputs": [],
   "source": [
    "def Mu2():\n",
    "    MUs = np.empty(len(n)+1)\n",
    "    for i in n:\n",
    "        E = 0\n",
    "        for j in np.arange(min(i, 9)): \n",
    "            E = E + 1/i**9 * (j+1) * round(factorial(i-1) / factorial(i-j), 2) * combs[j]\n",
    "        MUs[i] = E\n",
    "    return MUs"
   ]
  },
  {
   "cell_type": "markdown",
   "id": "1b8eb639",
   "metadata": {},
   "source": [
    "## в)"
   ]
  },
  {
   "cell_type": "markdown",
   "id": "4c829695",
   "metadata": {},
   "source": [
    "Для функции правдоподобия константа не будет влиять на максимум, так что не будем ее учитывать."
   ]
  },
  {
   "cell_type": "code",
   "execution_count": 695,
   "id": "f9465850",
   "metadata": {},
   "outputs": [],
   "source": [
    "np.random.seed(400)\n",
    "ml = np.empty(10000)\n",
    "\n",
    "for i in np.arange(10000):\n",
    "    rides = np.random.choice(20, size=10)\n",
    "    unique = len(np.unique(rides))\n",
    "    L = np.zeros(101)\n",
    "    for j in np.arange(unique, 101):\n",
    "        L[j] = 1/j**9 * round(factorial(j-1) / factorial(j-unique), 2)\n",
    "    ml[i] = L.argmax()"
   ]
  },
  {
   "cell_type": "code",
   "execution_count": 699,
   "id": "1ea4a621",
   "metadata": {},
   "outputs": [
    {
     "data": {
      "text/plain": [
       "Text(0.5, 1.0, 'Распределение ml-оценок')"
      ]
     },
     "execution_count": 699,
     "metadata": {},
     "output_type": "execute_result"
    },
    {
     "data": {
      "image/png": "[encoded data removed]",
      "text/plain": [
       "<Figure size 432x288 with 1 Axes>"
      ]
     },
     "metadata": {
      "needs_background": "light"
     },
     "output_type": "display_data"
    }
   ],
   "source": [
    "plt.hist(ml, bins=25)\n",
    "plt.title('Распределение ml-оценок')"
   ]
  },
  {
   "cell_type": "code",
   "execution_count": 701,
   "id": "396337c3",
   "metadata": {},
   "outputs": [
    {
     "name": "stdout",
     "output_type": "stream",
     "text": [
      "Оценка смещения ml-оценки равна 8.297\n"
     ]
    }
   ],
   "source": [
    "print(f'Оценка смещения ml-оценки равна {ml.mean() - 20}')"
   ]
  },
  {
   "cell_type": "code",
   "execution_count": 702,
   "id": "e7200877",
   "metadata": {},
   "outputs": [
    {
     "name": "stdout",
     "output_type": "stream",
     "text": [
      "Оценка дисперсии ml-оценки равна 525.9823910000001\n"
     ]
    }
   ],
   "source": [
    "print(f'Оценка дисперсии ml-оценки равна {ml.var()}')"
   ]
  },
  {
   "cell_type": "code",
   "execution_count": 704,
   "id": "1d7bbee4",
   "metadata": {},
   "outputs": [
    {
     "name": "stdout",
     "output_type": "stream",
     "text": [
      "Cреднеквадратическая ошибка ml-оценки равна 594.8226\n"
     ]
    }
   ],
   "source": [
    "print(f'Cреднеквадратическая ошибка ml-оценки равна {((ml-20)**2).sum() / 10000}')"
   ]
  },
  {
   "cell_type": "markdown",
   "id": "973c236e",
   "metadata": {},
   "source": [
    "# 3. Иноагент Иннокентий"
   ]
  },
  {
   "cell_type": "markdown",
   "id": "d5fa744b",
   "metadata": {},
   "source": [
    "## а)"
   ]
  },
  {
   "cell_type": "markdown",
   "id": "d33ccd9b",
   "metadata": {},
   "source": [
    "Сгенерируем 10000 выборок размером 20 из экспоненциального распределения с интенсивностью 1:"
   ]
  },
  {
   "cell_type": "code",
   "execution_count": 5,
   "id": "446017ea",
   "metadata": {},
   "outputs": [],
   "source": [
    "sample_expon = sts.expon.rvs(scale=1, size=(10000, 20), random_state=25)"
   ]
  },
  {
   "cell_type": "markdown",
   "id": "58cb578d",
   "metadata": {},
   "source": [
    "Классический асимптотический 95% интервал для математического ожидания можно построить так:\n",
    "$$ \\mu \\in [\\overline{X} -  1.96 \\cdot \\frac{\\hat{\\sigma_x}}{\\sqrt{(n_x)}}, \\overline{X} +  1.96 \\cdot \\frac{\\hat{\\sigma_x}}{\\sqrt{(n_x)}}]$$\n",
    "\n",
    "Посчитаем вероятность попадания 1 (истинное значение мат. ожидания) в построенные по 20 наблюдениям доверительные интервалы."
   ]
  },
  {
   "cell_type": "code",
   "execution_count": 564,
   "id": "542c8e59",
   "metadata": {},
   "outputs": [
    {
     "data": {
      "text/plain": [
       "0.9042"
      ]
     },
     "execution_count": 564,
     "metadata": {},
     "output_type": "execute_result"
    }
   ],
   "source": [
    "(np.logical_and(((sample_expon.mean(axis=1) - 1.96 * sample_expon.std(axis=1, ddof=1) / np.sqrt(20)) <= 1),  \n",
    "((sample_expon.mean(axis=1) + 1.96 * sample_expon.std(axis=1, ddof=1) / np.sqrt(20)) >= 1))).sum() / 10000"
   ]
  },
  {
   "cell_type": "markdown",
   "id": "ee06e9ea",
   "metadata": {},
   "source": [
    "Как отсюда видно, вероятность накрытия достаточно высока."
   ]
  },
  {
   "cell_type": "markdown",
   "id": "77d5d510",
   "metadata": {},
   "source": [
    "Теперь проделаем то же самое, но с помощью наивного бутстрапа. Суть наивного бутстрапа в том, чтобы создать много выборок (в данном случае 10000) размером 20, случайно выбирая наблюдения из исходной выборки, и посчитать по каждой из них среднее. Двусторонний доверительный интервал для мат. ожидания в данном случае ограничен кватилями 2.5% и 97.5% среднего бутстрапированных выборок."
   ]
  },
  {
   "cell_type": "code",
   "execution_count": 572,
   "id": "8c6d4371",
   "metadata": {},
   "outputs": [],
   "source": [
    "np.random.seed(400)\n",
    "naive_bootstrap_expon = np.empty(10000)\n",
    "t_statistic_bootstrap_expon = np.empty(10000)\n",
    "\n",
    "for i in np.arange(10000): \n",
    "    sample = np.random.choice(sample_expon[i], size = (10000, 20))\n",
    "    mean = sample.mean(axis=1)\n",
    "    std = sample.std(axis=1, ddof=1) / np.sqrt(20)\n",
    "    t_statistic = (mean - sample_expon[i].mean()) / std\n",
    "    naive_bootstrap_expon[i] = (np.logical_and(np.quantile(mean, 0.025) <= 1,\n",
    "                                               np.quantile(mean, 0.975) >= 1))\n",
    "    t_statistic_bootstrap_expon[i] = (np.logical_and(sample_expon[i].mean() - sample_expon[i].std(ddof=1) / np.sqrt(20)\n",
    "                                                     * np.quantile(t_statistic, 0.975) <= 1,\n",
    "                                                     sample_expon[i].mean() - sample_expon[i].std(ddof=1) / np.sqrt(20)\n",
    "                                                     * np.quantile(t_statistic, 0.025) >= 1))"
   ]
  },
  {
   "cell_type": "code",
   "execution_count": 573,
   "id": "26f1b199",
   "metadata": {},
   "outputs": [
    {
     "data": {
      "text/plain": [
       "0.9038"
      ]
     },
     "execution_count": 573,
     "metadata": {},
     "output_type": "execute_result"
    }
   ],
   "source": [
    "naive_bootstrap_expon.sum() / 10000"
   ]
  },
  {
   "cell_type": "markdown",
   "id": "ffc9ed45",
   "metadata": {},
   "source": [
    "Наивный бутстрап практически не изменил вероятность накрытия."
   ]
  },
  {
   "cell_type": "markdown",
   "id": "502d9465",
   "metadata": {},
   "source": [
    "В бутстрапе t-статистики для из 10000 бутстрапированных выборок считаем не среднее, а следующую статистику:\n",
    "$$ t^* = \\frac{\\overline{X}^* - \\overline{X}}{se(\\overline{X}^*)} $$"
   ]
  },
  {
   "cell_type": "code",
   "execution_count": 574,
   "id": "ce40ad53",
   "metadata": {},
   "outputs": [
    {
     "data": {
      "text/plain": [
       "0.9444"
      ]
     },
     "execution_count": 574,
     "metadata": {},
     "output_type": "execute_result"
    }
   ],
   "source": [
    "t_statistic_bootstrap_expon.sum() / 10000"
   ]
  },
  {
   "cell_type": "markdown",
   "id": "d8600c71",
   "metadata": {},
   "source": [
    "Такой подход позволил в 10000 экспериментах накрыть истинное мат. ожидание с вероятностью 0.9444."
   ]
  },
  {
   "cell_type": "markdown",
   "id": "88f5d30a",
   "metadata": {},
   "source": [
    "## б)"
   ]
  },
  {
   "cell_type": "markdown",
   "id": "89f3d5a9",
   "metadata": {},
   "source": [
    "Проделаем все те же действия с t-распределением с тремя степенями свободы."
   ]
  },
  {
   "cell_type": "code",
   "execution_count": 10,
   "id": "b8ad57e9",
   "metadata": {},
   "outputs": [],
   "source": [
    "sample_t = sts.t.rvs(df=3, size=(10000, 20), random_state=25)"
   ]
  },
  {
   "cell_type": "code",
   "execution_count": 11,
   "id": "bf7f14c3",
   "metadata": {},
   "outputs": [
    {
     "data": {
      "text/plain": [
       "0.9374"
      ]
     },
     "execution_count": 11,
     "metadata": {},
     "output_type": "execute_result"
    }
   ],
   "source": [
    "(np.logical_and(((sample_t.mean(axis=1) - 1.96 * sample_t.std(axis=1) / np.sqrt(20)) <= 0),  \n",
    "((sample_t.mean(axis=1) + 1.96 * sample_t.std(axis=1) / np.sqrt(20)) >= 0))).sum() / 10000"
   ]
  },
  {
   "cell_type": "markdown",
   "id": "c1121cf2",
   "metadata": {},
   "source": [
    "Асимптотический доверительный интервал дает достаточно высокую вероятность накрытия."
   ]
  },
  {
   "cell_type": "code",
   "execution_count": 575,
   "id": "e11337db",
   "metadata": {},
   "outputs": [],
   "source": [
    "np.random.seed(400)\n",
    "naive_bootstrap_t = np.empty(10000)\n",
    "t_statistic_bootstrap_t = np.empty(10000)\n",
    "\n",
    "for i in np.arange(10000): \n",
    "    sample = np.random.choice(sample_t[i], size = (10000, 20))\n",
    "    mean = sample.mean(axis=1)\n",
    "    std = sample.std(axis=1) / np.sqrt(20)\n",
    "    t_statistic = (mean - sample_t[i].mean()) / std\n",
    "    naive_bootstrap_t[i] = (np.logical_and(np.quantile(mean, 0.025) <= 0,\n",
    "                                               np.quantile(mean, 0.975) >= 0))\n",
    "    t_statistic_bootstrap_t[i] = (np.logical_and(sample_t[i].mean() - sample_t[i].std() / np.sqrt(20)\n",
    "                                                     * np.quantile(t_statistic, 0.975) <= 0,\n",
    "                                                     sample_t[i].mean() - sample_t[i].std() / np.sqrt(20)\n",
    "                                                     * np.quantile(t_statistic, 0.025) >= 0))"
   ]
  },
  {
   "cell_type": "code",
   "execution_count": 576,
   "id": "b124662d",
   "metadata": {},
   "outputs": [
    {
     "data": {
      "text/plain": [
       "0.9206"
      ]
     },
     "execution_count": 576,
     "metadata": {},
     "output_type": "execute_result"
    }
   ],
   "source": [
    "naive_bootstrap_t.sum() / 10000"
   ]
  },
  {
   "cell_type": "markdown",
   "id": "563007c5",
   "metadata": {},
   "source": [
    "Наивный бутстрап дает вероятность накрытия ниже, чем асимптотический интервал."
   ]
  },
  {
   "cell_type": "code",
   "execution_count": 577,
   "id": "b73d2141",
   "metadata": {},
   "outputs": [
    {
     "data": {
      "text/plain": [
       "0.9245"
      ]
     },
     "execution_count": 577,
     "metadata": {},
     "output_type": "execute_result"
    }
   ],
   "source": [
    "t_statistic_bootstrap_t.sum() / 10000"
   ]
  },
  {
   "cell_type": "markdown",
   "id": "7c946214",
   "metadata": {},
   "source": [
    "Бутстрап t-статистики, как и в случае с экспоненциальным распределением, дает вероятность накрытия, равную 0.9245."
   ]
  },
  {
   "cell_type": "markdown",
   "id": "a7836cb3",
   "metadata": {},
   "source": [
    "## в)"
   ]
  },
  {
   "cell_type": "markdown",
   "id": "4a2e161d",
   "metadata": {},
   "source": [
    "Заметим, что в обоих случаях вероятность накрытия истинного мат. ожидания методом бутстрапа t-статистики равна 1. При это асимптотический интервал оказался лучше наивного бутстрапа для t-распределения, но хуже для экспоненциального. Это, вероятно, обусловлено тем, что среднее из t-распределения быстрее сходится к нормальному распределению, чем среднее из экспоненциального, что дает более высокую вероятность накрытия асимптотическим доверительным интервалом."
   ]
  },
  {
   "cell_type": "markdown",
   "id": "87fec2b6",
   "metadata": {},
   "source": [
    "## 4"
   ]
  },
  {
   "cell_type": "markdown",
   "id": "bdc4b7eb",
   "metadata": {},
   "source": [
    "Импортируем таблицу с оценками за экзамен по 30-бальной шкале (отсутствие на экзамене равно 0)."
   ]
  },
  {
   "cell_type": "code",
   "execution_count": 84,
   "id": "c35b3749",
   "metadata": {},
   "outputs": [
    {
     "data": {
      "text/html": [
       "<div>\n",
       "<style scoped>\n",
       "    .dataframe tbody tr th:only-of-type {\n",
       "        vertical-align: middle;\n",
       "    }\n",
       "\n",
       "    .dataframe tbody tr th {\n",
       "        vertical-align: top;\n",
       "    }\n",
       "\n",
       "    .dataframe thead th {\n",
       "        text-align: right;\n",
       "    }\n",
       "</style>\n",
       "<table border=\"1\" class=\"dataframe\">\n",
       "  <thead>\n",
       "    <tr style=\"text-align: right;\">\n",
       "      <th></th>\n",
       "      <th>Last name</th>\n",
       "      <th>Grade</th>\n",
       "    </tr>\n",
       "  </thead>\n",
       "  <tbody>\n",
       "    <tr>\n",
       "      <th>0</th>\n",
       "      <td>Репенкова</td>\n",
       "      <td>16</td>\n",
       "    </tr>\n",
       "    <tr>\n",
       "      <th>1</th>\n",
       "      <td>Ролдугина</td>\n",
       "      <td>0</td>\n",
       "    </tr>\n",
       "    <tr>\n",
       "      <th>2</th>\n",
       "      <td>Сафина</td>\n",
       "      <td>19</td>\n",
       "    </tr>\n",
       "    <tr>\n",
       "      <th>3</th>\n",
       "      <td>Сидоров</td>\n",
       "      <td>26</td>\n",
       "    </tr>\n",
       "    <tr>\n",
       "      <th>4</th>\n",
       "      <td>Солоухин</td>\n",
       "      <td>21</td>\n",
       "    </tr>\n",
       "    <tr>\n",
       "      <th>...</th>\n",
       "      <td>...</td>\n",
       "      <td>...</td>\n",
       "    </tr>\n",
       "    <tr>\n",
       "      <th>327</th>\n",
       "      <td>Сенников</td>\n",
       "      <td>19</td>\n",
       "    </tr>\n",
       "    <tr>\n",
       "      <th>328</th>\n",
       "      <td>Ся</td>\n",
       "      <td>0</td>\n",
       "    </tr>\n",
       "    <tr>\n",
       "      <th>329</th>\n",
       "      <td>Сятова</td>\n",
       "      <td>0</td>\n",
       "    </tr>\n",
       "    <tr>\n",
       "      <th>330</th>\n",
       "      <td>Темиркулов</td>\n",
       "      <td>0</td>\n",
       "    </tr>\n",
       "    <tr>\n",
       "      <th>331</th>\n",
       "      <td>Эшмеев</td>\n",
       "      <td>16</td>\n",
       "    </tr>\n",
       "  </tbody>\n",
       "</table>\n",
       "<p>332 rows × 2 columns</p>\n",
       "</div>"
      ],
      "text/plain": [
       "      Last name  Grade\n",
       "0     Репенкова     16\n",
       "1     Ролдугина      0\n",
       "2        Сафина     19\n",
       "3       Сидоров     26\n",
       "4      Солоухин     21\n",
       "..          ...    ...\n",
       "327    Сенников     19\n",
       "328          Ся      0\n",
       "329      Сятова      0\n",
       "330  Темиркулов      0\n",
       "331      Эшмеев     16\n",
       "\n",
       "[332 rows x 2 columns]"
      ]
     },
     "execution_count": 84,
     "metadata": {},
     "output_type": "execute_result"
    }
   ],
   "source": [
    "df = pd.read_csv('desktop/grades.csv', sep=';')\n",
    "df"
   ]
  },
  {
   "cell_type": "markdown",
   "id": "f23a478d",
   "metadata": {},
   "source": [
    "## а)"
   ]
  },
  {
   "cell_type": "markdown",
   "id": "3c497189",
   "metadata": {},
   "source": [
    "Создаем два массива -- фамилии с гласной буквы и с согласной."
   ]
  },
  {
   "cell_type": "code",
   "execution_count": 125,
   "id": "5688c2ba",
   "metadata": {},
   "outputs": [],
   "source": [
    "vowel = np.empty(2)\n",
    "consonant = np.empty(2)\n",
    "\n",
    "for i in df.index:\n",
    "    if df.loc[i, 'Last name'].startswith(('А', 'О', 'У', 'Ы', 'Э', 'Е', 'Ё', 'И', 'Ю', 'Я')):\n",
    "        vowel = np.vstack((vowel, df.loc[i].values))\n",
    "    else:\n",
    "        consonant = np.vstack((consonant, df.loc[i].values))\n",
    "\n",
    "vowel = vowel[1:]\n",
    "consonant = consonant[1:]"
   ]
  },
  {
   "cell_type": "markdown",
   "id": "39bc2ccc",
   "metadata": {},
   "source": [
    "Считаем количество степеней свободы $d$ по формуле:\n",
    "$$\n",
    "d \\approx \\frac{(\\frac{\\hat{\\sigma_x}^2}{n_x} + \\frac{\\hat{\\sigma_y}^2}{n_y})^2}{\\frac{\\hat{\\sigma_x}^4}{n_x^2 \\cdot (n_x - 1)} + \\frac{\\hat{\\sigma_y}^4}{n_y^2 \\cdot (n_y - 1)}}\n",
    "$$\n",
    "\n",
    "При верной нулевой гипотезе $\\mu_x = \\mu_y$ t-статистика равна:\n",
    "\n",
    "$$\n",
    "t_{obs} = \\frac{\\overline{X} - \\overline{Y}}{\\sqrt{\\frac{\\hat{\\sigma_x}^2}{n_x} + \\frac{\\hat{\\sigma_y}^2}{n_y}}} \\approx t_d\n",
    "$$"
   ]
  },
  {
   "cell_type": "markdown",
   "id": "3c315f7f",
   "metadata": {},
   "source": [
    "Найдем p-value как $\\min(P(t \\leq t_{obs}), P(t > t_{obs}))$"
   ]
  },
  {
   "cell_type": "code",
   "execution_count": 665,
   "id": "1a3d72a7",
   "metadata": {
    "scrolled": true
   },
   "outputs": [
    {
     "name": "stdout",
     "output_type": "stream",
     "text": [
      "P-value равно 0.43235594220891316.\n"
     ]
    }
   ],
   "source": [
    "d = (np.var(vowel[:, 1], ddof=1) / len(vowel) + np.var(consonant[:, 1], ddof=1) / len(consonant)) ** 2/ (np.var(vowel[:, 1], ddof=1)**2 / (len(vowel)**2 * (len(vowel)-1)) + np.var(consonant[:, 1], ddof=1)**2 / (len(consonant)**2 * (len(consonant)-1)))\n",
    "\n",
    "t_obs = (vowel[:, 1].mean() - consonant[:, 1].mean()) / np.sqrt(np.var(vowel[:, 1], ddof=1) / len(vowel) + np.var(consonant[:, 1], ddof=1) / len(consonant))\n",
    "\n",
    "print(f'P-value равно {sts.t.cdf(t_obs, df=d) * 2}.')"
   ]
  },
  {
   "cell_type": "code",
   "execution_count": 656,
   "id": "9281075f",
   "metadata": {},
   "outputs": [
    {
     "data": {
      "text/plain": [
       "Ttest_indResult(statistic=-0.8519661870595602, pvalue=0.3974027153843839)"
      ]
     },
     "execution_count": 656,
     "metadata": {},
     "output_type": "execute_result"
    }
   ],
   "source": [
    "sts.ttest_ind(list(vowel[:,1]), list(consonant[:, 1]), equal_var=False)"
   ]
  },
  {
   "cell_type": "markdown",
   "id": "7f4de1f8",
   "metadata": {},
   "source": [
    "Гипотеза $H_0$ не отвергается."
   ]
  },
  {
   "cell_type": "markdown",
   "id": "d568c4b7",
   "metadata": {},
   "source": [
    "## б)"
   ]
  },
  {
   "cell_type": "code",
   "execution_count": 118,
   "id": "352adfcb",
   "metadata": {},
   "outputs": [],
   "source": [
    "np.random.seed(300)\n",
    "\n",
    "means_diff = np.empty(10000)\n",
    "var = np.empty(10000)\n",
    "\n",
    "\n",
    "for i in np.arange(10000):\n",
    "    sample_vowel = np.random.choice(vowel[:, 0], size = len(vowel))\n",
    "    vowels = vowel[np.isin(vowel[:, 0], sample_vowel)][:, 1]\n",
    "    \n",
    "    sample_consonant = np.random.choice(consonant[:, 0], size = len(consonant))\n",
    "    consonants = consonant[np.isin(consonant[:, 0], sample_consonant)][:, 1]\n",
    "    \n",
    "    means_diff[i] = vowels.mean() - consonants.mean()\n",
    "    var[i] = np.sqrt(np.var(vowels, ddof=1) / len(sample_vowel) + np.var(consonants, ddof=1) / len(sample_consonant))"
   ]
  },
  {
   "cell_type": "code",
   "execution_count": 414,
   "id": "8a6596ad",
   "metadata": {},
   "outputs": [
    {
     "name": "stdout",
     "output_type": "stream",
     "text": [
      "P-value равно 0.675.\n"
     ]
    }
   ],
   "source": [
    "print(f'P-value равно {np.mean(vowel[:,1].mean() - consonant[:,1].mean() > means_diff) * 2}.')"
   ]
  },
  {
   "cell_type": "markdown",
   "id": "d9d25ca1",
   "metadata": {},
   "source": [
    "Гипотеза $H_0$ не отвергается."
   ]
  },
  {
   "cell_type": "markdown",
   "id": "5f315d2e",
   "metadata": {},
   "source": [
    "## в)"
   ]
  },
  {
   "cell_type": "code",
   "execution_count": 415,
   "id": "f6272cf9",
   "metadata": {},
   "outputs": [
    {
     "name": "stdout",
     "output_type": "stream",
     "text": [
      "P-value равно 0.2838.\n"
     ]
    }
   ],
   "source": [
    "t_statistics = (means_diff - (vowel[:,1].mean() - consonant[:,1].mean())) / var\n",
    "\n",
    "t_obs = (vowel[:,1].mean() - consonant[:,1].mean()) / np.sqrt(np.var(vowel[:,1], ddof=1) / len(vowel) + np.var(consonant[:,1], ddof=1) / len(consonant))\n",
    "\n",
    "print(f'P-value равно {np.mean(t_obs > t_statistics).mean() * 2}.')"
   ]
  },
  {
   "cell_type": "markdown",
   "id": "809b2365",
   "metadata": {},
   "source": [
    "Гипотеза $H_0$ не отвергается."
   ]
  },
  {
   "cell_type": "markdown",
   "id": "02334341",
   "metadata": {},
   "source": [
    "## г)"
   ]
  },
  {
   "cell_type": "code",
   "execution_count": null,
   "id": "81e07d65",
   "metadata": {},
   "outputs": [],
   "source": [
    "np.random.seed(100)\n",
    "last_name = np.array(df['Last name'])\n",
    "grade = np.array(df['Grade'])\n",
    "means_diff2 = np.empty(10000)\n",
    "\n",
    "for i in np.arange(10000):\n",
    "    np.random.shuffle(last_name)\n",
    "    bootstrap = np.vstack((last_name, grade))\n",
    "    mean_consonant2 = bootstrap[:, np.isin(bootstrap[0, :], consonant)][1, :].mean()\n",
    "    mean_vowel2 = bootstrap[:, np.isin(bootstrap[0, :], vowel)][1, :].mean()\n",
    "    \n",
    "    means_diff2[i] = mean_vowel2 - mean_consonant2"
   ]
  },
  {
   "cell_type": "code",
   "execution_count": null,
   "id": "186f8e3b",
   "metadata": {},
   "outputs": [],
   "source": [
    "np.mean(vowel[:,1].mean() - consonant[:,1].mean() > means_diff2) * 2"
   ]
  },
  {
   "cell_type": "code",
   "execution_count": 669,
   "id": "29744257",
   "metadata": {},
   "outputs": [
    {
     "data": {
      "text/plain": [
       "Ttest_indResult(statistic=-0.8519661870595602, pvalue=0.3972602739726027)"
      ]
     },
     "execution_count": 669,
     "metadata": {},
     "output_type": "execute_result"
    }
   ],
   "source": [
    "sts.ttest_ind(list(vowel[:,1]), list(consonant[:, 1]), equal_var=False, permutations=10000, random_state=200)"
   ]
  },
  {
   "cell_type": "markdown",
   "id": "8e33de91",
   "metadata": {},
   "source": [
    "Гипотеза $H_0$ не отвергается."
   ]
  },
  {
   "cell_type": "markdown",
   "id": "e96ae71f",
   "metadata": {},
   "source": [
    "# 5. Шансы и риски."
   ]
  },
  {
   "cell_type": "markdown",
   "id": "a1aef07c",
   "metadata": {},
   "source": [
    "## а)\n",
    "\n",
    "Разделим всех студентов на четыре группы: по строчкам — гласная или согласная первая буква фамилии, по столбцам —выше медианы или ниже оценка за экзамен."
   ]
  },
  {
   "cell_type": "code",
   "execution_count": 418,
   "id": "d81c35f5",
   "metadata": {},
   "outputs": [],
   "source": [
    "median = df['Grade'].median()\n",
    "table = np.array([[(vowel[:, 1] > median).sum(), (vowel[:, 1] <= median).sum()],\n",
    "                 [(consonant[:, 1] > median).sum(), (consonant[:, 1] <= median).sum()]])\n"
   ]
  },
  {
   "cell_type": "markdown",
   "id": "a70c5cc8",
   "metadata": {},
   "source": [
    "Получилась следующая таблица сопряженности:\n",
    "\n",
    "<table>\n",
    "<tr><td>\n",
    "    \n",
    "|| Выше медианы |  Ниже медианы|\n",
    "|--|--|--|\n",
    "|Гласная| 21 | 28 |\n",
    "|Согласная| 145 | 138 |\n",
    "\n",
    "</td></tr> </table>\n",
    "    \n",
    "Отношение шансов равно $\\hat{OR} = \\frac{a/b}{c/d} = \\frac{21/28}{145/138}$.\n",
    "\n",
    "Известно, что величина асимптотически $\\frac{ln(\\hat{OR}) - ln(OR)}{se(ln(\\hat{OR}))} \\approx N(0,1)$\n",
    "\n",
    "Тогда для нахождения асимптотического доверительного интервала воспользуемся нормальным распределением и найдем его для сперва для логарифма отношений, а далее сделаем преобразование $ ln(OR) \\in [CI_l, CI_r]$ -> $OR \\in [e^{CI_l}, e^{CI_r}] $.\n",
    "\n"
   ]
  },
  {
   "cell_type": "code",
   "execution_count": 35,
   "id": "d0f438a4",
   "metadata": {},
   "outputs": [
    {
     "name": "stdout",
     "output_type": "stream",
     "text": [
      "Доверительный интервал для OR: [0.3870902431823096, 1.3162320763800788]\n"
     ]
    }
   ],
   "source": [
    "OR_hat = (table[0,0] / table[0,1]) / (table[1,0] / table[1,1])\n",
    "\n",
    "CI_L = np.exp(np.log(OR_hat) - 1.96 * np.sqrt(1/table[0,0] + 1/table[0,1] + 1/table[1,0] + 1/table[1,1]))\n",
    "CI_R = np.exp(np.log(OR_hat) + 1.96 * np.sqrt(1/table[0,0] + 1/table[0,1] + 1/table[1,0] + 1/table[1,1]))\n",
    "\n",
    "print(f'Доверительный интервал для OR: [{CI_L}, {CI_R}]')"
   ]
  },
  {
   "cell_type": "markdown",
   "id": "e37e313f",
   "metadata": {},
   "source": [
    "Считаем $Z_{obs}$ при верной $H_0$: $ln(OR) = 0$."
   ]
  },
  {
   "cell_type": "code",
   "execution_count": 420,
   "id": "7e3de680",
   "metadata": {},
   "outputs": [
    {
     "name": "stdout",
     "output_type": "stream",
     "text": [
      "P-value равен 0.280180274566451\n"
     ]
    }
   ],
   "source": [
    "z_obs = (np.log(OR_hat) - 0)/np.sqrt(1/table[0,0] + 1/table[0,1] + 1/table[1,0] + 1/table[1,1])\n",
    "\n",
    "print(f'P-value равен {sts.norm.cdf(z_obs) * 2}')"
   ]
  },
  {
   "cell_type": "markdown",
   "id": "98c99829",
   "metadata": {},
   "source": [
    "Следовательно, гипотеза $H_0$ не отвергается, так как p-value $> 0.05$."
   ]
  },
  {
   "cell_type": "markdown",
   "id": "e0be78fa",
   "metadata": {},
   "source": [
    "## б) \n",
    "\n",
    "Аналогично с пунктом а):\n",
    "1) $\\hat{RR} = \\frac{a/(a+b)}{c/(c+d)} = \\frac{21/(21+28)}{145/(145+138)}$\n",
    "\n",
    "2) $\\frac{ln(\\hat{RR}) - ln(RR)}{se(ln(\\hat{RR}))} \\approx N(0,1)$\n",
    "\n",
    "Поэтому будем использовать такую же процедуру."
   ]
  },
  {
   "cell_type": "code",
   "execution_count": 421,
   "id": "2b48908f",
   "metadata": {},
   "outputs": [
    {
     "name": "stdout",
     "output_type": "stream",
     "text": [
      "Доверительный интервал для RR: [0.49789893903633947, 1.4052127936660306]\n"
     ]
    }
   ],
   "source": [
    "RR_hat = (table[0,0] / table.sum(axis=1)[0]) / (table[1,0] / table.sum(axis=1)[1])\n",
    "\n",
    "CI_L = np.exp(np.log(RR_hat) - 1.96 * np.sqrt((1-table[0,0] / table.sum(axis=1)[0]) / (table[0,0] * table[0,0] / table.sum(axis=1)[0]) + (1-table[1,0] / table.sum(axis=1)[1]) / (table[1,0] * table[1,0] / table.sum(axis=1)[1])))\n",
    "CI_R = np.exp(np.log(RR_hat) + 1.96 * np.sqrt((1-table[0,0] / table.sum(axis=1)[0]) / (table[0,0] * table[0,0] / table.sum(axis=1)[0]) + (1-table[1,0] / table.sum(axis=1)[1]) / (table[1,0] * table[1,0] / table.sum(axis=1)[1])))\n",
    "\n",
    "print(f'Доверительный интервал для RR: [{CI_L}, {CI_R}]')"
   ]
  },
  {
   "cell_type": "code",
   "execution_count": 423,
   "id": "ca0a3e80",
   "metadata": {},
   "outputs": [
    {
     "name": "stdout",
     "output_type": "stream",
     "text": [
      "P-value равен 0.49985465625289704\n"
     ]
    }
   ],
   "source": [
    "z_obs = (np.log(RR_hat) - 0)/ np.sqrt((1-table[0,0] / table.sum(axis=1)[0]) / (table[0,0] * table[0,0] / table.sum(axis=1)[0]) + (1-table[1,0] / table.sum(axis=1)[1]) / (table[1,0] * table[1,0] / table.sum(axis=1)[1]))\n",
    "\n",
    "print(f'P-value равен {sts.norm.cdf(z_obs) * 2}')"
   ]
  },
  {
   "cell_type": "markdown",
   "id": "8461dfba",
   "metadata": {},
   "source": [
    "Следовательно, гипотеза $H_0$ не отвергается, так как p-value $> 0.05$."
   ]
  },
  {
   "cell_type": "markdown",
   "id": "5ca1af4c",
   "metadata": {},
   "source": [
    "## в) \n",
    "\n",
    "Для студентов с фамилией, начинающейся на гласную, сгенерируем выборку размером 49 из распределения Бернулли, где 1 — написал выше медианы, а 0 — ниже. $P(x=1) = \\frac{21}{21+28}$.\n",
    "\n",
    "Аналогично для студентов с 'согласной' фамилией. \n",
    "\n",
    "Проделаем эти шаги 10000, каждый раз считая для двух выборок $\\hat{OR^*}$.\n",
    "\n",
    "Доверительный интервал для OR задается квантилями 2.5% и 97.5% бутстрапированных $\\hat{OR^*}$."
   ]
  },
  {
   "cell_type": "code",
   "execution_count": 63,
   "id": "9d71afd5",
   "metadata": {},
   "outputs": [],
   "source": [
    "sample_vowel = np.random.choice([1, 0], size=(10000, table.sum(axis=1)[0]),\n",
    "                                p=[table[0,0]/table.sum(axis=1)[0], \n",
    "                                   table[0,1]/table.sum(axis=1)[0]]).sum(axis=1) / table.sum(axis=1)[0]\n",
    "\n",
    "sample_consonant = np.random.choice([1, 0], size=(10000, table.sum(axis=1)[1]),\n",
    "                                p=[table[1,0]/table.sum(axis=1)[1], \n",
    "                                   table[1,1]/table.sum(axis=1)[1]]).sum(axis=1) / table.sum(axis=1)[1]\n",
    "\n",
    "ORs = sample_vowel / sample_consonant"
   ]
  },
  {
   "cell_type": "code",
   "execution_count": 64,
   "id": "db841602",
   "metadata": {},
   "outputs": [
    {
     "name": "stdout",
     "output_type": "stream",
     "text": [
      "Доверительный интервал для OR: [0.5603106914407555, 1.1388468322080194]\n"
     ]
    }
   ],
   "source": [
    "CI_L = np.quantile(ORs, 0.025)\n",
    "CI_R = np.quantile(ORs, 0.975)\n",
    "\n",
    "print(f'Доверительный интервал для OR: [{CI_L}, {CI_R}]')"
   ]
  },
  {
   "cell_type": "code",
   "execution_count": 424,
   "id": "ae0ae768",
   "metadata": {},
   "outputs": [
    {
     "name": "stdout",
     "output_type": "stream",
     "text": [
      "P-value равен 0.403.\n"
     ]
    }
   ],
   "source": [
    "print(f'P-value равен {(OR_hat >= ORs).mean() * 2}.')"
   ]
  },
  {
   "cell_type": "markdown",
   "id": "5835c6be",
   "metadata": {},
   "source": [
    "Следовательно, гипотеза $H_0$ не отвергается, так как p-value $> 0.05$."
   ]
  },
  {
   "cell_type": "markdown",
   "id": "c06bc0fb",
   "metadata": {},
   "source": [
    "# 6. Корреляция"
   ]
  },
  {
   "cell_type": "markdown",
   "id": "2f6dc78d",
   "metadata": {},
   "source": [
    "## a)"
   ]
  },
  {
   "cell_type": "code",
   "execution_count": 16,
   "id": "58978926",
   "metadata": {},
   "outputs": [],
   "source": [
    "last_name_len = df['Last name'].str.len()"
   ]
  },
  {
   "cell_type": "code",
   "execution_count": 670,
   "id": "a11ad378",
   "metadata": {},
   "outputs": [
    {
     "name": "stdout",
     "output_type": "stream",
     "text": [
      "Оценка параметра бета равна 2.0613026819923372\n"
     ]
    }
   ],
   "source": [
    "beta = df['Grade'].mean() / last_name_len.mean()\n",
    "print(f'Оценка параметра бета равна {beta}')"
   ]
  },
  {
   "cell_type": "code",
   "execution_count": 425,
   "id": "cfa89b90",
   "metadata": {},
   "outputs": [
    {
     "name": "stdout",
     "output_type": "stream",
     "text": [
      "Выборочная корреляция равна 0.025328052669147692\n"
     ]
    }
   ],
   "source": [
    "corr = sts.pearsonr(last_name_len, df['Grade'])[0]\n",
    "\n",
    "print(f'Выборочная корреляция равна {corr}')"
   ]
  },
  {
   "cell_type": "markdown",
   "id": "ff072c8c",
   "metadata": {},
   "source": [
    "## б)\n",
    "\n",
    "Случайный образом перемешаем перемешаем фамилии студентов 10000 раз и посчитаем выборочную корреляция между фамилией и оценкой. Рассчитаем p-value как $\\min(P(x \\leq \\overline{corr}), P(x > \\overline{corr}))$"
   ]
  },
  {
   "cell_type": "code",
   "execution_count": 22,
   "id": "74333474",
   "metadata": {},
   "outputs": [],
   "source": [
    "corrs = np.empty(shape=(10000))\n",
    "last_name = np.array(last_name_len)\n",
    "np.random.seed(400)\n",
    "for i in np.arange(10000): \n",
    "    np.random.shuffle(last_name)\n",
    "    corrs[i] = sts.pearsonr(last_name, df['Grade'])[0]"
   ]
  },
  {
   "cell_type": "code",
   "execution_count": 430,
   "id": "ffbb2565",
   "metadata": {},
   "outputs": [
    {
     "data": {
      "text/plain": [
       "<matplotlib.collections.LineCollection at 0x7f8618939ca0>"
      ]
     },
     "execution_count": 430,
     "metadata": {},
     "output_type": "execute_result"
    },
    {
     "data": {
      "image/png": "[encoded data removed]",
      "text/plain": [
       "<Figure size 432x288 with 1 Axes>"
      ]
     },
     "metadata": {
      "needs_background": "light"
     },
     "output_type": "display_data"
    }
   ],
   "source": [
    "plt.hist(corrs, bins=50)\n",
    "plt.vlines(corr, 0, 600, colors='red', linestyles='dashed')\n",
    "plt.vlines(-corr, 0, 600, colors='red', linestyles='dashed')"
   ]
  },
  {
   "cell_type": "code",
   "execution_count": 426,
   "id": "f9e5c65b",
   "metadata": {
    "scrolled": true
   },
   "outputs": [
    {
     "name": "stdout",
     "output_type": "stream",
     "text": [
      "p-value равно 0.6539999999999999\n"
     ]
    }
   ],
   "source": [
    "print(f'p-value равно {(1 - (corrs>-corr).mean()) * 2}')"
   ]
  },
  {
   "cell_type": "markdown",
   "id": "e2249dfd",
   "metadata": {},
   "source": [
    "## 7. ГПТ"
   ]
  },
  {
   "cell_type": "markdown",
   "id": "2e623ad8",
   "metadata": {},
   "source": [
    "__Задача из probability_pro__: В урне 5 белых и 11 черных шаров. Два шара извлекаются по очереди. Какова вероятность того, что второй шар будет черным?"
   ]
  },
  {
   "cell_type": "markdown",
   "id": "fd70569e",
   "metadata": {},
   "source": [
    "__ЧАТ:__ Первый шар может быть белым или черным, поэтому мы рассмотрим два случая:\n",
    "\n",
    "1) Если первый шар белый, то вероятность того, что второй шар будет черным, равна количеству черных шаров, поделенному на общее количество оставшихся шаров:\n",
    "\n",
    "P(второй шар черный | первый шар белый) = 11/15\n",
    "\n",
    "2) Если первый шар черный, то вероятность того, что второй шар будет черным, равна количеству черных шаров (уменьшенному на 1, так как один черный шар уже был извлечен), поделенному на общее количество оставшихся шаров (уменьшенное на 1, так как один шар уже был извлечен):\n",
    "\n",
    "P(второй шар черный | первый шар черный) = 10/14 = 5/7\n",
    "\n",
    "Таким образом, общая вероятность того, что второй шар будет черным, равна сумме вероятностей для каждого случая, умноженных на вероятность выбора соответствующего первого шара:\n",
    "\n",
    "P(второй шар черный) = P(первый шар белый) * P(второй шар черный | первый шар белый) + P(первый шар черный) * P(второй шар черный | первый шар черный)\n",
    "= (5/16) * (11/15) + (11/16) * (5/7)\n",
    "≈ 0.524\n",
    "\n",
    "Таким образом, вероятность того, что второй шар будет черным, составляет примерно 0,524."
   ]
  },
  {
   "cell_type": "markdown",
   "id": "be416381",
   "metadata": {},
   "source": [
    "__Я:__ Первая часть верна, но если первый шар - черный, то на втором шаге остается 15 шаров, а не 14"
   ]
  },
  {
   "cell_type": "markdown",
   "id": "23468740",
   "metadata": {},
   "source": [
    "__ЧАТ:__ Спасибо за замечание, это действительно ошибка. Вероятность того, что второй шар будет черным при условии, что первый шар черный, должна быть равна 10/15 = 2/3. Поэтому общая вероятность того, что второй шар будет черным, равна:\n",
    "\n",
    "P(второй шар черный) = P(первый шар белый) * P(второй шар черный | первый шар белый) + P(первый шар черный) * P(второй шар черный | первый шар черный)\n",
    "= (5/16) * (11/15) + (11/16) * (2/3)\n",
    "≈ 0.527\n",
    "\n",
    "Извините за путаницу."
   ]
  },
  {
   "cell_type": "markdown",
   "id": "6473da4d",
   "metadata": {},
   "source": [
    "__Я:__ верно, но неправильно посчитано значение выражения"
   ]
  },
  {
   "cell_type": "markdown",
   "id": "a2acf5d7",
   "metadata": {},
   "source": [
    "__ЧАТ:__ Правильное значение выражения равно:\n",
    "\n",
    "P(первый шар черный и второй шар черный) = P(первый шар черный) * P(второй шар черный | первый шар черный)\n",
    "= (11/16) * (10/15)\n",
    "= 11/24\n",
    "≈ 0.458\n",
    "\n",
    "Таким образом, вероятность того, что первый и второй шары будут черными, составляет примерно 0.458."
   ]
  },
  {
   "cell_type": "markdown",
   "id": "942a47ab",
   "metadata": {},
   "source": [
    "__Я:__ нет, неправильно посчитано выражение (5/16) * (11/15) + (11/16) * (2/3)"
   ]
  },
  {
   "cell_type": "markdown",
   "id": "34e84f92",
   "metadata": {},
   "source": [
    "__ЧАТ:__ Исправленное значение выражения равно:\n",
    "\n",
    "P(первый шар белый и второй шар черный) + P(первый шар черный и второй шар белый) + P(оба шара черные) = \n",
    "(5/16) * (11/15) + (11/16) * (5/15) + (11/16) * (10/15)\n",
    "= 55/192 + 55/192 + 11/24\n",
    "= 77/192\n",
    "≈ 0.401\n",
    "\n",
    "Таким образом, вероятность того, что первый и второй шары будут разного цвета или оба черные, составляет примерно 0.401."
   ]
  },
  {
   "cell_type": "markdown",
   "id": "b5b9eae4",
   "metadata": {},
   "source": [
    "__Я:__ абстрагируйся от задачи, посчитай значение (5/16) * (11/15) + (11/16) * (2/3)"
   ]
  },
  {
   "cell_type": "markdown",
   "id": "57f7eb54",
   "metadata": {},
   "source": [
    "__ЧАТ:__ (5/16) * (11/15) + (11/16) * (2/3) = 55/240 + 66/96 = 11/48 + 11/16 = 77/192 ≈ 0.401."
   ]
  },
  {
   "cell_type": "markdown",
   "id": "1776e462",
   "metadata": {},
   "source": [
    "__Я:__ неверно"
   ]
  },
  {
   "cell_type": "markdown",
   "id": "029869d4",
   "metadata": {},
   "source": [
    "__ЧАТ:__ Давайте проверим:\n",
    "\n",
    "(5/16) * (11/15) + (11/16) * (2/3) = (55/240) + (22/48)\n",
    "= (11/48) + (11/24) = (11/48) + (22/48) = 33/48 = 0.6875\n",
    "\n",
    "Таким образом, правильный ответ равен 0.6875, а не 0.401."
   ]
  },
  {
   "cell_type": "markdown",
   "id": "aa65fc7c",
   "metadata": {},
   "source": [
    "__Я:__ Верно"
   ]
  },
  {
   "cell_type": "markdown",
   "id": "6df906f1",
   "metadata": {},
   "source": [
    "## 8. Источник\n",
    "\n",
    "По ходу курса по математической статистике я иногда обращался к аналогичному курсу Филиппа Ульянкина, так как там схожие темы объяснялись менее строго, но с демонстрацией симуляций в python, что помогало более наглядно представить себе темы. В частности, сильно помог разобраться в проверке гипотез. Вот ссылка на курс в ютубе:\n",
    "https://youtube.com/playlist?list=PLNKXA-74YGLjDOtDSZEFoy1yP-3AfiHUC"
   ]
  }
 ],
 "metadata": {
  "kernelspec": {
   "display_name": "Python 3 (ipykernel)",
   "language": "python",
   "name": "python3"
  },
  "language_info": {
   "codemirror_mode": {
    "name": "ipython",
    "version": 3
   },
   "file_extension": ".py",
   "mimetype": "text/x-python",
   "name": "python",
   "nbconvert_exporter": "python",
   "pygments_lexer": "ipython3",
   "version": "3.9.12"
  }
 },
 "nbformat": 4,
 "nbformat_minor": 5
}
